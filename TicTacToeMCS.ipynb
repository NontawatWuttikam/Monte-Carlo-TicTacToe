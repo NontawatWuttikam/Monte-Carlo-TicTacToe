{
  "nbformat": 4,
  "nbformat_minor": 0,
  "metadata": {
    "colab": {
      "name": "Untitled47.ipynb",
      "provenance": [],
      "collapsed_sections": []
    },
    "kernelspec": {
      "name": "python3",
      "display_name": "Python 3"
    }
  },
  "cells": [
    {
      "cell_type": "code",
      "metadata": {
        "id": "Q5oVrrBce9CX"
      },
      "source": [
        "import numpy as np\r\n",
        "import operator\r\n",
        "\r\n",
        "class TickTacToe() :\r\n",
        "  def __init__(self,iter = 2000):\r\n",
        "    self.player = 'X'\r\n",
        "    self.iter = iter\r\n",
        "    self.ai = 'O'\r\n",
        "    self.board = np.full((3,3), '_')\r\n",
        "    self.count = 0\r\n",
        "  def display(self):\r\n",
        "    print(self.board)\r\n",
        "  def move(self,loc):\r\n",
        "    self.board[loc] = self.player\r\n",
        "    self.count += 1\r\n",
        "    if self.is_end(self.player) == '?':\r\n",
        "      self.board[self.ai_move()] = self.ai\r\n",
        "      self.count += 1\r\n",
        "      return '?'\r\n",
        "    if self.is_end(self.ai) == self.ai:\r\n",
        "      print(\"AI WIN\")\r\n",
        "      return 'AI'\r\n",
        "    if self.is_end(self.player) == self.player:\r\n",
        "      print(\"PLAYER WIN\")\r\n",
        "      return 'PLAYER'\r\n",
        "    if count == 9:\r\n",
        "      return 'TIE' \r\n",
        "  def ai_move(self):\r\n",
        "    ai_board_init = self.flip_role(self.board)\r\n",
        "    spaces = np.where(self.board == '_')\r\n",
        "    i = np.random.choice(len(spaces))\r\n",
        "    spaces = np.dstack((spaces[0],spaces[1]))\r\n",
        "    spaces = np.squeeze(spaces)\r\n",
        "    prop_dic = {}\r\n",
        "    iter = self.iter\r\n",
        "    count_pos = 0\r\n",
        "    for pos in spaces:\r\n",
        "      win_count = 0\r\n",
        "      for i in range(iter):\r\n",
        "        ai_board = ai_board_init.copy()\r\n",
        "        ai_board[pos[0],pos[1]] = 'X'\r\n",
        "        res = '?'\r\n",
        "        while res == '?':\r\n",
        "          spaces_o = np.where(ai_board == '_')\r\n",
        "          # spaces_o = np.dstack((spaces_o[0],spaces_o[1]))\r\n",
        "          # spaces_o = np.squeeze(spaces_o)\r\n",
        "          i = np.random.choice(len(spaces_o[0]))\r\n",
        "          ai_board[spaces_o[0][i], spaces_o[1][i]] = 'O'\r\n",
        "\r\n",
        "          spaces_x = np.where(ai_board == '_')\r\n",
        "\r\n",
        "          if len(spaces_x[0]) == 0:\r\n",
        "            player_b = ai_board == 'X'\r\n",
        "            if np.any(np.sum(player_b, axis=0)==3): res = 'PLAYER'\r\n",
        "            elif np.any(np.sum(player_b, axis=1)==3): res = 'PLAYER'\r\n",
        "            elif np.sum(np.diag(np.fliplr(player_b))) ==3: res = 'PLAYER'\r\n",
        "            elif np.sum(np.diag(player_b)) == 3: res = 'PLAYER'\r\n",
        "            else:\r\n",
        "              ai_b = ai_board == 'O'\r\n",
        "              if np.any(np.sum(ai_b, axis=0)==3): res = 'AI'\r\n",
        "              elif np.any(np.sum(ai_b, axis=1)==3): res = 'AI'\r\n",
        "              elif np.sum(np.diag(np.fliplr(ai_b))) ==3: res = 'AI'\r\n",
        "              elif np.sum(np.diag(ai_b)) == 3: res = 'AI'\r\n",
        "              else:\r\n",
        "                if len(np.where(ai_board == '_')) == 0: #TIE?\r\n",
        "                  res = 'TIE'\r\n",
        "                else:\r\n",
        "                  res = '?'\r\n",
        "            if res == 'PLAYER':\r\n",
        "              win_count += 1\r\n",
        "            elif res == 'AI' or res == 'TIE':\r\n",
        "              break\r\n",
        "            break\r\n",
        "          # spaces_x = np.dstack((spaces_x[0],spaces_x[1]))\r\n",
        "          # spaces_x = np.squeeze(spaces_x)\r\n",
        "          j = np.random.choice(len(spaces_x[0]))\r\n",
        "          ai_board[spaces_x[0][j], spaces_x[1][j]] = 'X'\r\n",
        "\r\n",
        "          player_b = ai_board == 'X'\r\n",
        "          if np.any(np.sum(player_b, axis=0)==3): res = 'PLAYER'\r\n",
        "          elif np.any(np.sum(player_b, axis=1)==3): res = 'PLAYER'\r\n",
        "          elif np.sum(np.diag(np.fliplr(player_b))) ==3: res = 'PLAYER'\r\n",
        "          elif np.sum(np.diag(player_b)) == 3: res = 'PLAYER'\r\n",
        "          else:\r\n",
        "            ai_b = ai_board == 'O'\r\n",
        "            if np.any(np.sum(ai_b, axis=0)==3): res = 'AI'\r\n",
        "            elif np.any(np.sum(ai_b, axis=1)==3): res = 'AI'\r\n",
        "            elif np.sum(np.diag(np.fliplr(ai_b))) ==3: res = 'AI'\r\n",
        "            elif np.sum(np.diag(ai_b)) == 3: res = 'AI'\r\n",
        "            else:\r\n",
        "              if len(np.where(ai_board == '_')) == 0: #TIE?\r\n",
        "                res = 'TIE'\r\n",
        "              else:\r\n",
        "                res = '?'\r\n",
        "          if res == 'PLAYER':\r\n",
        "            win_count += 1\r\n",
        "\r\n",
        "          elif res == 'AI' or res == 'TIE':\r\n",
        "            break\r\n",
        "          \r\n",
        "        # print(ai_board,res)\r\n",
        "      prop_dic[count_pos] = win_count/iter \r\n",
        "      count_pos += 1   \r\n",
        "    max_pos = max(prop_dic.items(), key=operator.itemgetter(1))[0]\r\n",
        "    max_pos = spaces[max_pos]\r\n",
        "    \r\n",
        "    # print('max pos : ',max_pos,'val ',prop_dic[max_pos])\r\n",
        "    print(prop_dic)\r\n",
        "    return max_pos[0],max_pos[1]\r\n",
        "  def flip_role(self,bb):\r\n",
        "    b = bb.copy()\r\n",
        "    empt = np.full((3,3),'_')\r\n",
        "    for k,i in enumerate(b):\r\n",
        "      for l,j in enumerate(i):\r\n",
        "        if j == 'X':\r\n",
        "          empt[k,l] = 'O'\r\n",
        "        if j == 'O':\r\n",
        "          empt[k,l] = 'X'\r\n",
        "    return empt\r\n",
        "  def is_end(self,player):\r\n",
        "    board = self.board == player\r\n",
        "    if np.any(np.sum(board, axis=0)==3): return player\r\n",
        "    if np.any(np.sum(board, axis=1)==3): return player\r\n",
        "    if np.sum(np.diag(np.fliplr(board))) ==3: return player\r\n",
        "    if np.sum(np.diag(board)) == 3: return player\r\n",
        "    return '?'\r\n",
        "\r\n",
        "\r\n"
      ],
      "execution_count": 1,
      "outputs": []
    },
    {
      "cell_type": "code",
      "metadata": {
        "id": "PgeWSMjYTDEt"
      },
      "source": [
        "\r\n",
        "ox = TickTacToe()"
      ],
      "execution_count": 2,
      "outputs": []
    },
    {
      "cell_type": "code",
      "metadata": {
        "colab": {
          "base_uri": "https://localhost:8080/"
        },
        "id": "tcrs9wQNu0NV",
        "outputId": "df789501-1291-4d36-b62c-21a376bdc6b8"
      },
      "source": [
        "ox.move((0,0)); ox.display()"
      ],
      "execution_count": 3,
      "outputs": [
        {
          "output_type": "stream",
          "text": [
            "{0: 0.257, 1: 0.3585, 2: 0.2275, 3: 0.468, 4: 0.3285, 5: 0.3615, 6: 0.3355, 7: 0.356}\n",
            "[['X' '_' '_']\n",
            " ['_' 'O' '_']\n",
            " ['_' '_' '_']]\n"
          ],
          "name": "stdout"
        }
      ]
    },
    {
      "cell_type": "code",
      "metadata": {
        "colab": {
          "base_uri": "https://localhost:8080/"
        },
        "id": "p8Nu4CZbw0bB",
        "outputId": "cf3db4db-3ac5-446a-8c67-e8d4a4f7085b"
      },
      "source": [
        "ox.move((1,0)); ox.display()"
      ],
      "execution_count": 4,
      "outputs": [
        {
          "output_type": "stream",
          "text": [
            "{0: 0.452, 1: 0.528, 2: 0.2255, 3: 0.5935, 4: 0.542, 5: 0.3415}\n",
            "[['X' '_' '_']\n",
            " ['X' 'O' '_']\n",
            " ['O' '_' '_']]\n"
          ],
          "name": "stdout"
        }
      ]
    },
    {
      "cell_type": "code",
      "metadata": {
        "colab": {
          "base_uri": "https://localhost:8080/"
        },
        "id": "7UmpNlLldP2I",
        "outputId": "62ac000b-363e-4171-c30a-09ea9682e0e6"
      },
      "source": [
        "ox.move((2,2)); ox.display()"
      ],
      "execution_count": 5,
      "outputs": [
        {
          "output_type": "stream",
          "text": [
            "{0: 0.666, 1: 1.0, 2: 0.314, 3: 0.6625}\n",
            "[['X' '_' 'O']\n",
            " ['X' 'O' '_']\n",
            " ['O' '_' 'X']]\n"
          ],
          "name": "stdout"
        }
      ]
    }
  ]
}